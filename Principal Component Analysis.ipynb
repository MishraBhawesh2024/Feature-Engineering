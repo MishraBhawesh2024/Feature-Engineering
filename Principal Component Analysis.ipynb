{
 "cells": [
  {
   "cell_type": "code",
   "execution_count": 2,
   "id": "ddf854ee",
   "metadata": {},
   "outputs": [],
   "source": [
    "import numpy as np\n",
    "import pandas as pd\n",
    "from matplotlib import pyplot as plt\n",
    "import seaborn as sns"
   ]
  },
  {
   "cell_type": "markdown",
   "id": "9de973d2",
   "metadata": {},
   "source": [
    "# Loading dataset"
   ]
  },
  {
   "cell_type": "code",
   "execution_count": 3,
   "id": "deb7dff1",
   "metadata": {},
   "outputs": [],
   "source": [
    "data = pd.read_csv('global_heat_index.csv')"
   ]
  },
  {
   "cell_type": "code",
   "execution_count": 4,
   "id": "29e567ba",
   "metadata": {},
   "outputs": [
    {
     "data": {
      "text/html": [
       "<div>\n",
       "<style scoped>\n",
       "    .dataframe tbody tr th:only-of-type {\n",
       "        vertical-align: middle;\n",
       "    }\n",
       "\n",
       "    .dataframe tbody tr th {\n",
       "        vertical-align: top;\n",
       "    }\n",
       "\n",
       "    .dataframe thead th {\n",
       "        text-align: right;\n",
       "    }\n",
       "</style>\n",
       "<table border=\"1\" class=\"dataframe\">\n",
       "  <thead>\n",
       "    <tr style=\"text-align: right;\">\n",
       "      <th></th>\n",
       "      <th>Year</th>\n",
       "      <th>Month</th>\n",
       "      <th>Day</th>\n",
       "      <th>Hour</th>\n",
       "      <th>Dew Point</th>\n",
       "      <th>Temperature</th>\n",
       "      <th>Pressure</th>\n",
       "      <th>Relative Humidity</th>\n",
       "      <th>Wind Direction</th>\n",
       "      <th>Wind Speed</th>\n",
       "      <th>Solar Radiation (GHI)</th>\n",
       "    </tr>\n",
       "  </thead>\n",
       "  <tbody>\n",
       "    <tr>\n",
       "      <th>0</th>\n",
       "      <td>2011</td>\n",
       "      <td>1</td>\n",
       "      <td>1</td>\n",
       "      <td>0</td>\n",
       "      <td>8</td>\n",
       "      <td>13.522659</td>\n",
       "      <td>986.761841</td>\n",
       "      <td>72.295858</td>\n",
       "      <td>37.288387</td>\n",
       "      <td>3.011042</td>\n",
       "      <td>0</td>\n",
       "    </tr>\n",
       "    <tr>\n",
       "      <th>1</th>\n",
       "      <td>2011</td>\n",
       "      <td>1</td>\n",
       "      <td>1</td>\n",
       "      <td>1</td>\n",
       "      <td>8</td>\n",
       "      <td>12.835814</td>\n",
       "      <td>986.441406</td>\n",
       "      <td>75.376186</td>\n",
       "      <td>37.686718</td>\n",
       "      <td>3.091243</td>\n",
       "      <td>0</td>\n",
       "    </tr>\n",
       "    <tr>\n",
       "      <th>2</th>\n",
       "      <td>2011</td>\n",
       "      <td>1</td>\n",
       "      <td>1</td>\n",
       "      <td>2</td>\n",
       "      <td>8</td>\n",
       "      <td>12.198058</td>\n",
       "      <td>985.736511</td>\n",
       "      <td>78.405198</td>\n",
       "      <td>35.053905</td>\n",
       "      <td>3.007649</td>\n",
       "      <td>0</td>\n",
       "    </tr>\n",
       "  </tbody>\n",
       "</table>\n",
       "</div>"
      ],
      "text/plain": [
       "   Year  Month  Day  Hour  Dew Point  Temperature    Pressure  \\\n",
       "0  2011      1    1     0          8    13.522659  986.761841   \n",
       "1  2011      1    1     1          8    12.835814  986.441406   \n",
       "2  2011      1    1     2          8    12.198058  985.736511   \n",
       "\n",
       "   Relative Humidity  Wind Direction  Wind Speed  Solar Radiation (GHI)  \n",
       "0          72.295858       37.288387    3.011042                      0  \n",
       "1          75.376186       37.686718    3.091243                      0  \n",
       "2          78.405198       35.053905    3.007649                      0  "
      ]
     },
     "execution_count": 4,
     "metadata": {},
     "output_type": "execute_result"
    }
   ],
   "source": [
    "data.head(3)"
   ]
  },
  {
   "cell_type": "code",
   "execution_count": 5,
   "id": "9b1daf50",
   "metadata": {},
   "outputs": [
    {
     "name": "stdout",
     "output_type": "stream",
     "text": [
      "<class 'pandas.core.frame.DataFrame'>\n",
      "RangeIndex: 17520 entries, 0 to 17519\n",
      "Data columns (total 11 columns):\n",
      " #   Column                 Non-Null Count  Dtype  \n",
      "---  ------                 --------------  -----  \n",
      " 0   Year                   17520 non-null  int64  \n",
      " 1   Month                  17520 non-null  int64  \n",
      " 2   Day                    17520 non-null  int64  \n",
      " 3   Hour                   17520 non-null  int64  \n",
      " 4   Dew Point              17520 non-null  int64  \n",
      " 5   Temperature            17520 non-null  float64\n",
      " 6   Pressure               17520 non-null  float64\n",
      " 7   Relative Humidity      17520 non-null  float64\n",
      " 8   Wind Direction         17520 non-null  float64\n",
      " 9   Wind Speed             17520 non-null  float64\n",
      " 10  Solar Radiation (GHI)  17520 non-null  int64  \n",
      "dtypes: float64(5), int64(6)\n",
      "memory usage: 1.5 MB\n"
     ]
    }
   ],
   "source": [
    "data.info()"
   ]
  },
  {
   "cell_type": "code",
   "execution_count": 6,
   "id": "980cf563",
   "metadata": {},
   "outputs": [
    {
     "data": {
      "text/plain": [
       "(17520, 11)"
      ]
     },
     "execution_count": 6,
     "metadata": {},
     "output_type": "execute_result"
    }
   ],
   "source": [
    "data.shape"
   ]
  },
  {
   "cell_type": "markdown",
   "id": "96a0dafd",
   "metadata": {},
   "source": [
    "# Cleaning Data"
   ]
  },
  {
   "cell_type": "code",
   "execution_count": 7,
   "id": "0ef5cab4",
   "metadata": {},
   "outputs": [
    {
     "data": {
      "text/plain": [
       "Year                     0\n",
       "Month                    0\n",
       "Day                      0\n",
       "Hour                     0\n",
       "Dew Point                0\n",
       "Temperature              0\n",
       "Pressure                 0\n",
       "Relative Humidity        0\n",
       "Wind Direction           0\n",
       "Wind Speed               0\n",
       "Solar Radiation (GHI)    0\n",
       "dtype: int64"
      ]
     },
     "execution_count": 7,
     "metadata": {},
     "output_type": "execute_result"
    }
   ],
   "source": [
    "data.isnull().sum() # check for missing entries"
   ]
  },
  {
   "cell_type": "code",
   "execution_count": 8,
   "id": "27529220",
   "metadata": {},
   "outputs": [
    {
     "data": {
      "text/plain": [
       "992"
      ]
     },
     "execution_count": 8,
     "metadata": {},
     "output_type": "execute_result"
    }
   ],
   "source": [
    "data['Solar Radiation (GHI)'].nunique()"
   ]
  },
  {
   "cell_type": "markdown",
   "id": "5f00f08d",
   "metadata": {},
   "source": [
    "For the purpose of predicting Solar Radiation, there is no point in studying rows where Hour < 6 (6 am) or Hour > 19 (7 pm), because Solar Radiation does not happen after SUNSET (as exploration of data confirms)"
   ]
  },
  {
   "cell_type": "code",
   "execution_count": 9,
   "id": "f7e06edc",
   "metadata": {},
   "outputs": [],
   "source": [
    "data = data[data['Hour'] >= 7]"
   ]
  },
  {
   "cell_type": "code",
   "execution_count": 10,
   "id": "6518522a",
   "metadata": {},
   "outputs": [
    {
     "data": {
      "text/plain": [
       "(12410, 11)"
      ]
     },
     "execution_count": 10,
     "metadata": {},
     "output_type": "execute_result"
    }
   ],
   "source": [
    "data.shape"
   ]
  },
  {
   "cell_type": "code",
   "execution_count": 11,
   "id": "061523a2",
   "metadata": {},
   "outputs": [],
   "source": [
    "data = data[ data['Hour'] <= 19]"
   ]
  },
  {
   "cell_type": "code",
   "execution_count": 12,
   "id": "830c9606",
   "metadata": {},
   "outputs": [
    {
     "data": {
      "text/plain": [
       "(9490, 11)"
      ]
     },
     "execution_count": 12,
     "metadata": {},
     "output_type": "execute_result"
    }
   ],
   "source": [
    "data.shape"
   ]
  },
  {
   "cell_type": "code",
   "execution_count": 13,
   "id": "beaa0f91",
   "metadata": {},
   "outputs": [
    {
     "data": {
      "text/html": [
       "<div>\n",
       "<style scoped>\n",
       "    .dataframe tbody tr th:only-of-type {\n",
       "        vertical-align: middle;\n",
       "    }\n",
       "\n",
       "    .dataframe tbody tr th {\n",
       "        vertical-align: top;\n",
       "    }\n",
       "\n",
       "    .dataframe thead th {\n",
       "        text-align: right;\n",
       "    }\n",
       "</style>\n",
       "<table border=\"1\" class=\"dataframe\">\n",
       "  <thead>\n",
       "    <tr style=\"text-align: right;\">\n",
       "      <th></th>\n",
       "      <th>Year</th>\n",
       "      <th>Month</th>\n",
       "      <th>Day</th>\n",
       "      <th>Hour</th>\n",
       "      <th>Dew Point</th>\n",
       "      <th>Temperature</th>\n",
       "      <th>Pressure</th>\n",
       "      <th>Relative Humidity</th>\n",
       "      <th>Wind Direction</th>\n",
       "      <th>Wind Speed</th>\n",
       "      <th>Solar Radiation (GHI)</th>\n",
       "    </tr>\n",
       "  </thead>\n",
       "  <tbody>\n",
       "    <tr>\n",
       "      <th>count</th>\n",
       "      <td>9490.000000</td>\n",
       "      <td>9490.000000</td>\n",
       "      <td>9490.000000</td>\n",
       "      <td>9490.000000</td>\n",
       "      <td>9490.000000</td>\n",
       "      <td>9490.000000</td>\n",
       "      <td>9490.000000</td>\n",
       "      <td>9490.000000</td>\n",
       "      <td>9490.000000</td>\n",
       "      <td>9490.000000</td>\n",
       "      <td>9490.000000</td>\n",
       "    </tr>\n",
       "    <tr>\n",
       "      <th>mean</th>\n",
       "      <td>2011.500000</td>\n",
       "      <td>6.526027</td>\n",
       "      <td>15.720548</td>\n",
       "      <td>13.000000</td>\n",
       "      <td>11.135722</td>\n",
       "      <td>30.275155</td>\n",
       "      <td>979.764586</td>\n",
       "      <td>40.148897</td>\n",
       "      <td>193.659705</td>\n",
       "      <td>2.418787</td>\n",
       "      <td>433.066386</td>\n",
       "    </tr>\n",
       "    <tr>\n",
       "      <th>std</th>\n",
       "      <td>0.500026</td>\n",
       "      <td>3.448033</td>\n",
       "      <td>8.796710</td>\n",
       "      <td>3.741855</td>\n",
       "      <td>11.219832</td>\n",
       "      <td>7.907448</td>\n",
       "      <td>6.206627</td>\n",
       "      <td>25.004457</td>\n",
       "      <td>100.563939</td>\n",
       "      <td>1.235776</td>\n",
       "      <td>308.524214</td>\n",
       "    </tr>\n",
       "    <tr>\n",
       "      <th>min</th>\n",
       "      <td>2011.000000</td>\n",
       "      <td>1.000000</td>\n",
       "      <td>1.000000</td>\n",
       "      <td>7.000000</td>\n",
       "      <td>-28.000000</td>\n",
       "      <td>6.457841</td>\n",
       "      <td>964.755859</td>\n",
       "      <td>0.921771</td>\n",
       "      <td>0.034660</td>\n",
       "      <td>0.030113</td>\n",
       "      <td>0.000000</td>\n",
       "    </tr>\n",
       "    <tr>\n",
       "      <th>25%</th>\n",
       "      <td>2011.000000</td>\n",
       "      <td>4.000000</td>\n",
       "      <td>8.000000</td>\n",
       "      <td>10.000000</td>\n",
       "      <td>2.000000</td>\n",
       "      <td>25.474942</td>\n",
       "      <td>974.348267</td>\n",
       "      <td>18.042185</td>\n",
       "      <td>95.632074</td>\n",
       "      <td>1.504627</td>\n",
       "      <td>148.000000</td>\n",
       "    </tr>\n",
       "    <tr>\n",
       "      <th>50%</th>\n",
       "      <td>2011.500000</td>\n",
       "      <td>7.000000</td>\n",
       "      <td>16.000000</td>\n",
       "      <td>13.000000</td>\n",
       "      <td>11.000000</td>\n",
       "      <td>30.354800</td>\n",
       "      <td>980.541962</td>\n",
       "      <td>38.279008</td>\n",
       "      <td>231.021500</td>\n",
       "      <td>2.268829</td>\n",
       "      <td>446.000000</td>\n",
       "    </tr>\n",
       "    <tr>\n",
       "      <th>75%</th>\n",
       "      <td>2012.000000</td>\n",
       "      <td>10.000000</td>\n",
       "      <td>23.000000</td>\n",
       "      <td>16.000000</td>\n",
       "      <td>22.000000</td>\n",
       "      <td>35.255237</td>\n",
       "      <td>984.994659</td>\n",
       "      <td>59.969883</td>\n",
       "      <td>261.233154</td>\n",
       "      <td>3.195885</td>\n",
       "      <td>693.000000</td>\n",
       "    </tr>\n",
       "    <tr>\n",
       "      <th>max</th>\n",
       "      <td>2012.000000</td>\n",
       "      <td>12.000000</td>\n",
       "      <td>31.000000</td>\n",
       "      <td>19.000000</td>\n",
       "      <td>27.000000</td>\n",
       "      <td>52.157927</td>\n",
       "      <td>993.353210</td>\n",
       "      <td>97.663827</td>\n",
       "      <td>359.821167</td>\n",
       "      <td>7.287084</td>\n",
       "      <td>1001.000000</td>\n",
       "    </tr>\n",
       "  </tbody>\n",
       "</table>\n",
       "</div>"
      ],
      "text/plain": [
       "              Year        Month          Day         Hour    Dew Point  \\\n",
       "count  9490.000000  9490.000000  9490.000000  9490.000000  9490.000000   \n",
       "mean   2011.500000     6.526027    15.720548    13.000000    11.135722   \n",
       "std       0.500026     3.448033     8.796710     3.741855    11.219832   \n",
       "min    2011.000000     1.000000     1.000000     7.000000   -28.000000   \n",
       "25%    2011.000000     4.000000     8.000000    10.000000     2.000000   \n",
       "50%    2011.500000     7.000000    16.000000    13.000000    11.000000   \n",
       "75%    2012.000000    10.000000    23.000000    16.000000    22.000000   \n",
       "max    2012.000000    12.000000    31.000000    19.000000    27.000000   \n",
       "\n",
       "       Temperature     Pressure  Relative Humidity  Wind Direction  \\\n",
       "count  9490.000000  9490.000000        9490.000000     9490.000000   \n",
       "mean     30.275155   979.764586          40.148897      193.659705   \n",
       "std       7.907448     6.206627          25.004457      100.563939   \n",
       "min       6.457841   964.755859           0.921771        0.034660   \n",
       "25%      25.474942   974.348267          18.042185       95.632074   \n",
       "50%      30.354800   980.541962          38.279008      231.021500   \n",
       "75%      35.255237   984.994659          59.969883      261.233154   \n",
       "max      52.157927   993.353210          97.663827      359.821167   \n",
       "\n",
       "        Wind Speed  Solar Radiation (GHI)  \n",
       "count  9490.000000            9490.000000  \n",
       "mean      2.418787             433.066386  \n",
       "std       1.235776             308.524214  \n",
       "min       0.030113               0.000000  \n",
       "25%       1.504627             148.000000  \n",
       "50%       2.268829             446.000000  \n",
       "75%       3.195885             693.000000  \n",
       "max       7.287084            1001.000000  "
      ]
     },
     "execution_count": 13,
     "metadata": {},
     "output_type": "execute_result"
    }
   ],
   "source": [
    "data.describe()"
   ]
  },
  {
   "cell_type": "markdown",
   "id": "86727ca1",
   "metadata": {},
   "source": [
    "Input and Output Data"
   ]
  },
  {
   "cell_type": "code",
   "execution_count": 14,
   "id": "1456577b",
   "metadata": {},
   "outputs": [],
   "source": [
    "x = data.iloc[:, 4:10].values\n",
    "y = data.iloc[:, 10].values"
   ]
  },
  {
   "cell_type": "code",
   "execution_count": 15,
   "id": "b9cba784",
   "metadata": {},
   "outputs": [
    {
     "data": {
      "text/plain": [
       "(9490,)"
      ]
     },
     "execution_count": 15,
     "metadata": {},
     "output_type": "execute_result"
    }
   ],
   "source": [
    "y.shape"
   ]
  },
  {
   "cell_type": "code",
   "execution_count": 16,
   "id": "db113652",
   "metadata": {},
   "outputs": [
    {
     "data": {
      "text/plain": [
       "array([[  0],\n",
       "       [159],\n",
       "       [363],\n",
       "       ...,\n",
       "       [ 16],\n",
       "       [  0],\n",
       "       [  0]], dtype=int64)"
      ]
     },
     "execution_count": 16,
     "metadata": {},
     "output_type": "execute_result"
    }
   ],
   "source": [
    "y.reshape(-1, 1)"
   ]
  },
  {
   "cell_type": "code",
   "execution_count": 17,
   "id": "69e296ef",
   "metadata": {},
   "outputs": [],
   "source": [
    "from sklearn.model_selection import train_test_split\n",
    "\n",
    "x_train, y_train, x_test, y_test = train_test_split(x, y, test_size = 0.3)"
   ]
  },
  {
   "cell_type": "code",
   "execution_count": 18,
   "id": "d79cf0a8",
   "metadata": {},
   "outputs": [],
   "source": [
    "from sklearn.preprocessing import StandardScaler\n",
    "\n",
    "scaler_X = StandardScaler()\n",
    "x_train = scaler_X.fit_transform(x_train)\n",
    "scaler_y = StandardScaler()\n",
    "y_train = scaler_y.fit_transform(y_train)"
   ]
  },
  {
   "cell_type": "code",
   "execution_count": 19,
   "id": "498c9414",
   "metadata": {},
   "outputs": [],
   "source": [
    "from sklearn.decomposition import PCA"
   ]
  },
  {
   "cell_type": "code",
   "execution_count": 20,
   "id": "cb04414a",
   "metadata": {},
   "outputs": [],
   "source": [
    "pca = PCA(n_components=2)"
   ]
  },
  {
   "cell_type": "code",
   "execution_count": 21,
   "id": "a1234ea4",
   "metadata": {},
   "outputs": [
    {
     "data": {
      "text/html": [
       "<style>#sk-container-id-1 {color: black;}#sk-container-id-1 pre{padding: 0;}#sk-container-id-1 div.sk-toggleable {background-color: white;}#sk-container-id-1 label.sk-toggleable__label {cursor: pointer;display: block;width: 100%;margin-bottom: 0;padding: 0.3em;box-sizing: border-box;text-align: center;}#sk-container-id-1 label.sk-toggleable__label-arrow:before {content: \"▸\";float: left;margin-right: 0.25em;color: #696969;}#sk-container-id-1 label.sk-toggleable__label-arrow:hover:before {color: black;}#sk-container-id-1 div.sk-estimator:hover label.sk-toggleable__label-arrow:before {color: black;}#sk-container-id-1 div.sk-toggleable__content {max-height: 0;max-width: 0;overflow: hidden;text-align: left;background-color: #f0f8ff;}#sk-container-id-1 div.sk-toggleable__content pre {margin: 0.2em;color: black;border-radius: 0.25em;background-color: #f0f8ff;}#sk-container-id-1 input.sk-toggleable__control:checked~div.sk-toggleable__content {max-height: 200px;max-width: 100%;overflow: auto;}#sk-container-id-1 input.sk-toggleable__control:checked~label.sk-toggleable__label-arrow:before {content: \"▾\";}#sk-container-id-1 div.sk-estimator input.sk-toggleable__control:checked~label.sk-toggleable__label {background-color: #d4ebff;}#sk-container-id-1 div.sk-label input.sk-toggleable__control:checked~label.sk-toggleable__label {background-color: #d4ebff;}#sk-container-id-1 input.sk-hidden--visually {border: 0;clip: rect(1px 1px 1px 1px);clip: rect(1px, 1px, 1px, 1px);height: 1px;margin: -1px;overflow: hidden;padding: 0;position: absolute;width: 1px;}#sk-container-id-1 div.sk-estimator {font-family: monospace;background-color: #f0f8ff;border: 1px dotted black;border-radius: 0.25em;box-sizing: border-box;margin-bottom: 0.5em;}#sk-container-id-1 div.sk-estimator:hover {background-color: #d4ebff;}#sk-container-id-1 div.sk-parallel-item::after {content: \"\";width: 100%;border-bottom: 1px solid gray;flex-grow: 1;}#sk-container-id-1 div.sk-label:hover label.sk-toggleable__label {background-color: #d4ebff;}#sk-container-id-1 div.sk-serial::before {content: \"\";position: absolute;border-left: 1px solid gray;box-sizing: border-box;top: 0;bottom: 0;left: 50%;z-index: 0;}#sk-container-id-1 div.sk-serial {display: flex;flex-direction: column;align-items: center;background-color: white;padding-right: 0.2em;padding-left: 0.2em;position: relative;}#sk-container-id-1 div.sk-item {position: relative;z-index: 1;}#sk-container-id-1 div.sk-parallel {display: flex;align-items: stretch;justify-content: center;background-color: white;position: relative;}#sk-container-id-1 div.sk-item::before, #sk-container-id-1 div.sk-parallel-item::before {content: \"\";position: absolute;border-left: 1px solid gray;box-sizing: border-box;top: 0;bottom: 0;left: 50%;z-index: -1;}#sk-container-id-1 div.sk-parallel-item {display: flex;flex-direction: column;z-index: 1;position: relative;background-color: white;}#sk-container-id-1 div.sk-parallel-item:first-child::after {align-self: flex-end;width: 50%;}#sk-container-id-1 div.sk-parallel-item:last-child::after {align-self: flex-start;width: 50%;}#sk-container-id-1 div.sk-parallel-item:only-child::after {width: 0;}#sk-container-id-1 div.sk-dashed-wrapped {border: 1px dashed gray;margin: 0 0.4em 0.5em 0.4em;box-sizing: border-box;padding-bottom: 0.4em;background-color: white;}#sk-container-id-1 div.sk-label label {font-family: monospace;font-weight: bold;display: inline-block;line-height: 1.2em;}#sk-container-id-1 div.sk-label-container {text-align: center;}#sk-container-id-1 div.sk-container {/* jupyter's `normalize.less` sets `[hidden] { display: none; }` but bootstrap.min.css set `[hidden] { display: none !important; }` so we also need the `!important` here to be able to override the default hidden behavior on the sphinx rendered scikit-learn.org. See: https://github.com/scikit-learn/scikit-learn/issues/21755 */display: inline-block !important;position: relative;}#sk-container-id-1 div.sk-text-repr-fallback {display: none;}</style><div id=\"sk-container-id-1\" class=\"sk-top-container\"><div class=\"sk-text-repr-fallback\"><pre>PCA(n_components=2)</pre><b>In a Jupyter environment, please rerun this cell to show the HTML representation or trust the notebook. <br />On GitHub, the HTML representation is unable to render, please try loading this page with nbviewer.org.</b></div><div class=\"sk-container\" hidden><div class=\"sk-item\"><div class=\"sk-estimator sk-toggleable\"><input class=\"sk-toggleable__control sk-hidden--visually\" id=\"sk-estimator-id-1\" type=\"checkbox\" checked><label for=\"sk-estimator-id-1\" class=\"sk-toggleable__label sk-toggleable__label-arrow\">PCA</label><div class=\"sk-toggleable__content\"><pre>PCA(n_components=2)</pre></div></div></div></div></div>"
      ],
      "text/plain": [
       "PCA(n_components=2)"
      ]
     },
     "execution_count": 21,
     "metadata": {},
     "output_type": "execute_result"
    }
   ],
   "source": [
    "pca.fit(x_train)"
   ]
  },
  {
   "cell_type": "code",
   "execution_count": 22,
   "id": "7271982d",
   "metadata": {},
   "outputs": [],
   "source": [
    "data_after_PCA = pca.transform(x_train)"
   ]
  },
  {
   "cell_type": "code",
   "execution_count": 23,
   "id": "08b5d9c4",
   "metadata": {},
   "outputs": [
    {
     "data": {
      "text/plain": [
       "array([[ 1.57756543,  1.0226408 ],\n",
       "       [-0.30721093,  2.53748617],\n",
       "       [ 0.70249661,  0.17783929],\n",
       "       ...,\n",
       "       [ 2.614763  , -1.31021334],\n",
       "       [-1.57790344, -1.88368939],\n",
       "       [-1.21172138,  1.51080932]])"
      ]
     },
     "execution_count": 23,
     "metadata": {},
     "output_type": "execute_result"
    }
   ],
   "source": [
    "data_after_PCA"
   ]
  },
  {
   "cell_type": "code",
   "execution_count": 24,
   "id": "d58f311f",
   "metadata": {},
   "outputs": [
    {
     "data": {
      "text/plain": [
       "(6643, 2)"
      ]
     },
     "execution_count": 24,
     "metadata": {},
     "output_type": "execute_result"
    }
   ],
   "source": [
    "data_after_PCA.shape # we have selected the best two directions out of an 10-dimensional data"
   ]
  },
  {
   "cell_type": "code",
   "execution_count": 25,
   "id": "500d4700",
   "metadata": {},
   "outputs": [
    {
     "data": {
      "text/html": [
       "<div>\n",
       "<style scoped>\n",
       "    .dataframe tbody tr th:only-of-type {\n",
       "        vertical-align: middle;\n",
       "    }\n",
       "\n",
       "    .dataframe tbody tr th {\n",
       "        vertical-align: top;\n",
       "    }\n",
       "\n",
       "    .dataframe thead th {\n",
       "        text-align: right;\n",
       "    }\n",
       "</style>\n",
       "<table border=\"1\" class=\"dataframe\">\n",
       "  <thead>\n",
       "    <tr style=\"text-align: right;\">\n",
       "      <th></th>\n",
       "      <th>0</th>\n",
       "      <th>1</th>\n",
       "    </tr>\n",
       "  </thead>\n",
       "  <tbody>\n",
       "    <tr>\n",
       "      <th>0</th>\n",
       "      <td>1.577565</td>\n",
       "      <td>1.022641</td>\n",
       "    </tr>\n",
       "    <tr>\n",
       "      <th>1</th>\n",
       "      <td>-0.307211</td>\n",
       "      <td>2.537486</td>\n",
       "    </tr>\n",
       "    <tr>\n",
       "      <th>2</th>\n",
       "      <td>0.702497</td>\n",
       "      <td>0.177839</td>\n",
       "    </tr>\n",
       "    <tr>\n",
       "      <th>3</th>\n",
       "      <td>3.042173</td>\n",
       "      <td>-0.540205</td>\n",
       "    </tr>\n",
       "    <tr>\n",
       "      <th>4</th>\n",
       "      <td>1.841118</td>\n",
       "      <td>-0.358823</td>\n",
       "    </tr>\n",
       "  </tbody>\n",
       "</table>\n",
       "</div>"
      ],
      "text/plain": [
       "          0         1\n",
       "0  1.577565  1.022641\n",
       "1 -0.307211  2.537486\n",
       "2  0.702497  0.177839\n",
       "3  3.042173 -0.540205\n",
       "4  1.841118 -0.358823"
      ]
     },
     "execution_count": 25,
     "metadata": {},
     "output_type": "execute_result"
    }
   ],
   "source": [
    "pd.DataFrame(data_after_PCA).head() # the features are just the general direction of Principal Components"
   ]
  },
  {
   "cell_type": "code",
   "execution_count": null,
   "id": "64dac08f",
   "metadata": {},
   "outputs": [],
   "source": []
  }
 ],
 "metadata": {
  "kernelspec": {
   "display_name": "Python 3 (ipykernel)",
   "language": "python",
   "name": "python3"
  },
  "language_info": {
   "codemirror_mode": {
    "name": "ipython",
    "version": 3
   },
   "file_extension": ".py",
   "mimetype": "text/x-python",
   "name": "python",
   "nbconvert_exporter": "python",
   "pygments_lexer": "ipython3",
   "version": "3.11.5"
  }
 },
 "nbformat": 4,
 "nbformat_minor": 5
}
