{
 "cells": [
  {
   "cell_type": "code",
   "execution_count": 1,
   "id": "ddf854ee",
   "metadata": {},
   "outputs": [],
   "source": [
    "import numpy as np\n",
    "import pandas as pd\n",
    "from matplotlib import pyplot as plt\n",
    "import seaborn as sns"
   ]
  },
  {
   "cell_type": "markdown",
   "id": "9de973d2",
   "metadata": {},
   "source": [
    "# Loading dataset"
   ]
  },
  {
   "cell_type": "code",
   "execution_count": 2,
   "id": "deb7dff1",
   "metadata": {},
   "outputs": [],
   "source": [
    "data = pd.read_csv('global_heat_index.csv')"
   ]
  },
  {
   "cell_type": "code",
   "execution_count": 3,
   "id": "29e567ba",
   "metadata": {},
   "outputs": [
    {
     "data": {
      "text/html": [
       "<div>\n",
       "<style scoped>\n",
       "    .dataframe tbody tr th:only-of-type {\n",
       "        vertical-align: middle;\n",
       "    }\n",
       "\n",
       "    .dataframe tbody tr th {\n",
       "        vertical-align: top;\n",
       "    }\n",
       "\n",
       "    .dataframe thead th {\n",
       "        text-align: right;\n",
       "    }\n",
       "</style>\n",
       "<table border=\"1\" class=\"dataframe\">\n",
       "  <thead>\n",
       "    <tr style=\"text-align: right;\">\n",
       "      <th></th>\n",
       "      <th>Year</th>\n",
       "      <th>Month</th>\n",
       "      <th>Day</th>\n",
       "      <th>Hour</th>\n",
       "      <th>Dew Point</th>\n",
       "      <th>Temperature</th>\n",
       "      <th>Pressure</th>\n",
       "      <th>Relative Humidity</th>\n",
       "      <th>Wind Direction</th>\n",
       "      <th>Wind Speed</th>\n",
       "      <th>Solar Radiation (GHI)</th>\n",
       "    </tr>\n",
       "  </thead>\n",
       "  <tbody>\n",
       "    <tr>\n",
       "      <th>0</th>\n",
       "      <td>2011</td>\n",
       "      <td>1</td>\n",
       "      <td>1</td>\n",
       "      <td>0</td>\n",
       "      <td>8</td>\n",
       "      <td>13.522659</td>\n",
       "      <td>986.761841</td>\n",
       "      <td>72.295858</td>\n",
       "      <td>37.288387</td>\n",
       "      <td>3.011042</td>\n",
       "      <td>0</td>\n",
       "    </tr>\n",
       "    <tr>\n",
       "      <th>1</th>\n",
       "      <td>2011</td>\n",
       "      <td>1</td>\n",
       "      <td>1</td>\n",
       "      <td>1</td>\n",
       "      <td>8</td>\n",
       "      <td>12.835814</td>\n",
       "      <td>986.441406</td>\n",
       "      <td>75.376186</td>\n",
       "      <td>37.686718</td>\n",
       "      <td>3.091243</td>\n",
       "      <td>0</td>\n",
       "    </tr>\n",
       "    <tr>\n",
       "      <th>2</th>\n",
       "      <td>2011</td>\n",
       "      <td>1</td>\n",
       "      <td>1</td>\n",
       "      <td>2</td>\n",
       "      <td>8</td>\n",
       "      <td>12.198058</td>\n",
       "      <td>985.736511</td>\n",
       "      <td>78.405198</td>\n",
       "      <td>35.053905</td>\n",
       "      <td>3.007649</td>\n",
       "      <td>0</td>\n",
       "    </tr>\n",
       "  </tbody>\n",
       "</table>\n",
       "</div>"
      ],
      "text/plain": [
       "   Year  Month  Day  Hour  Dew Point  Temperature    Pressure  \\\n",
       "0  2011      1    1     0          8    13.522659  986.761841   \n",
       "1  2011      1    1     1          8    12.835814  986.441406   \n",
       "2  2011      1    1     2          8    12.198058  985.736511   \n",
       "\n",
       "   Relative Humidity  Wind Direction  Wind Speed  Solar Radiation (GHI)  \n",
       "0          72.295858       37.288387    3.011042                      0  \n",
       "1          75.376186       37.686718    3.091243                      0  \n",
       "2          78.405198       35.053905    3.007649                      0  "
      ]
     },
     "execution_count": 3,
     "metadata": {},
     "output_type": "execute_result"
    }
   ],
   "source": [
    "data.head(3)"
   ]
  },
  {
   "cell_type": "code",
   "execution_count": 4,
   "id": "9b1daf50",
   "metadata": {},
   "outputs": [
    {
     "name": "stdout",
     "output_type": "stream",
     "text": [
      "<class 'pandas.core.frame.DataFrame'>\n",
      "RangeIndex: 17520 entries, 0 to 17519\n",
      "Data columns (total 11 columns):\n",
      " #   Column                 Non-Null Count  Dtype  \n",
      "---  ------                 --------------  -----  \n",
      " 0   Year                   17520 non-null  int64  \n",
      " 1   Month                  17520 non-null  int64  \n",
      " 2   Day                    17520 non-null  int64  \n",
      " 3   Hour                   17520 non-null  int64  \n",
      " 4   Dew Point              17520 non-null  int64  \n",
      " 5   Temperature            17520 non-null  float64\n",
      " 6   Pressure               17520 non-null  float64\n",
      " 7   Relative Humidity      17520 non-null  float64\n",
      " 8   Wind Direction         17520 non-null  float64\n",
      " 9   Wind Speed             17520 non-null  float64\n",
      " 10  Solar Radiation (GHI)  17520 non-null  int64  \n",
      "dtypes: float64(5), int64(6)\n",
      "memory usage: 1.5 MB\n"
     ]
    }
   ],
   "source": [
    "data.info()"
   ]
  },
  {
   "cell_type": "code",
   "execution_count": 5,
   "id": "980cf563",
   "metadata": {},
   "outputs": [
    {
     "data": {
      "text/plain": [
       "(17520, 11)"
      ]
     },
     "execution_count": 5,
     "metadata": {},
     "output_type": "execute_result"
    }
   ],
   "source": [
    "data.shape"
   ]
  },
  {
   "cell_type": "markdown",
   "id": "96a0dafd",
   "metadata": {},
   "source": [
    "# Cleaning Data"
   ]
  },
  {
   "cell_type": "code",
   "execution_count": 6,
   "id": "0ef5cab4",
   "metadata": {},
   "outputs": [
    {
     "data": {
      "text/plain": [
       "Year                     0\n",
       "Month                    0\n",
       "Day                      0\n",
       "Hour                     0\n",
       "Dew Point                0\n",
       "Temperature              0\n",
       "Pressure                 0\n",
       "Relative Humidity        0\n",
       "Wind Direction           0\n",
       "Wind Speed               0\n",
       "Solar Radiation (GHI)    0\n",
       "dtype: int64"
      ]
     },
     "execution_count": 6,
     "metadata": {},
     "output_type": "execute_result"
    }
   ],
   "source": [
    "data.isnull().sum() # check for missing entries"
   ]
  },
  {
   "cell_type": "code",
   "execution_count": 7,
   "id": "27529220",
   "metadata": {},
   "outputs": [
    {
     "data": {
      "text/plain": [
       "992"
      ]
     },
     "execution_count": 7,
     "metadata": {},
     "output_type": "execute_result"
    }
   ],
   "source": [
    "data['Solar Radiation (GHI)'].nunique()"
   ]
  },
  {
   "cell_type": "markdown",
   "id": "5f00f08d",
   "metadata": {},
   "source": [
    "For the purpose of predicting Solar Radiation, there is no point in studying rows where Hour < 6 (6 am) or Hour > 19 (7 pm), because Solar Radiation does not happen after SUNSET (as exploration of data confirms)"
   ]
  },
  {
   "cell_type": "code",
   "execution_count": 8,
   "id": "f7e06edc",
   "metadata": {},
   "outputs": [],
   "source": [
    "data = data[data['Hour'] >= 7]"
   ]
  },
  {
   "cell_type": "code",
   "execution_count": 9,
   "id": "6518522a",
   "metadata": {},
   "outputs": [
    {
     "data": {
      "text/plain": [
       "(12410, 11)"
      ]
     },
     "execution_count": 9,
     "metadata": {},
     "output_type": "execute_result"
    }
   ],
   "source": [
    "data.shape"
   ]
  },
  {
   "cell_type": "code",
   "execution_count": 10,
   "id": "061523a2",
   "metadata": {},
   "outputs": [],
   "source": [
    "data = data[ data['Hour'] <= 19]"
   ]
  },
  {
   "cell_type": "code",
   "execution_count": 11,
   "id": "830c9606",
   "metadata": {},
   "outputs": [
    {
     "data": {
      "text/plain": [
       "(9490, 11)"
      ]
     },
     "execution_count": 11,
     "metadata": {},
     "output_type": "execute_result"
    }
   ],
   "source": [
    "data.shape"
   ]
  },
  {
   "cell_type": "code",
   "execution_count": 12,
   "id": "beaa0f91",
   "metadata": {},
   "outputs": [
    {
     "data": {
      "text/html": [
       "<div>\n",
       "<style scoped>\n",
       "    .dataframe tbody tr th:only-of-type {\n",
       "        vertical-align: middle;\n",
       "    }\n",
       "\n",
       "    .dataframe tbody tr th {\n",
       "        vertical-align: top;\n",
       "    }\n",
       "\n",
       "    .dataframe thead th {\n",
       "        text-align: right;\n",
       "    }\n",
       "</style>\n",
       "<table border=\"1\" class=\"dataframe\">\n",
       "  <thead>\n",
       "    <tr style=\"text-align: right;\">\n",
       "      <th></th>\n",
       "      <th>Year</th>\n",
       "      <th>Month</th>\n",
       "      <th>Day</th>\n",
       "      <th>Hour</th>\n",
       "      <th>Dew Point</th>\n",
       "      <th>Temperature</th>\n",
       "      <th>Pressure</th>\n",
       "      <th>Relative Humidity</th>\n",
       "      <th>Wind Direction</th>\n",
       "      <th>Wind Speed</th>\n",
       "      <th>Solar Radiation (GHI)</th>\n",
       "    </tr>\n",
       "  </thead>\n",
       "  <tbody>\n",
       "    <tr>\n",
       "      <th>count</th>\n",
       "      <td>9490.000000</td>\n",
       "      <td>9490.000000</td>\n",
       "      <td>9490.000000</td>\n",
       "      <td>9490.000000</td>\n",
       "      <td>9490.000000</td>\n",
       "      <td>9490.000000</td>\n",
       "      <td>9490.000000</td>\n",
       "      <td>9490.000000</td>\n",
       "      <td>9490.000000</td>\n",
       "      <td>9490.000000</td>\n",
       "      <td>9490.000000</td>\n",
       "    </tr>\n",
       "    <tr>\n",
       "      <th>mean</th>\n",
       "      <td>2011.500000</td>\n",
       "      <td>6.526027</td>\n",
       "      <td>15.720548</td>\n",
       "      <td>13.000000</td>\n",
       "      <td>11.135722</td>\n",
       "      <td>30.275155</td>\n",
       "      <td>979.764586</td>\n",
       "      <td>40.148897</td>\n",
       "      <td>193.659705</td>\n",
       "      <td>2.418787</td>\n",
       "      <td>433.066386</td>\n",
       "    </tr>\n",
       "    <tr>\n",
       "      <th>std</th>\n",
       "      <td>0.500026</td>\n",
       "      <td>3.448033</td>\n",
       "      <td>8.796710</td>\n",
       "      <td>3.741855</td>\n",
       "      <td>11.219832</td>\n",
       "      <td>7.907448</td>\n",
       "      <td>6.206627</td>\n",
       "      <td>25.004457</td>\n",
       "      <td>100.563939</td>\n",
       "      <td>1.235776</td>\n",
       "      <td>308.524214</td>\n",
       "    </tr>\n",
       "    <tr>\n",
       "      <th>min</th>\n",
       "      <td>2011.000000</td>\n",
       "      <td>1.000000</td>\n",
       "      <td>1.000000</td>\n",
       "      <td>7.000000</td>\n",
       "      <td>-28.000000</td>\n",
       "      <td>6.457841</td>\n",
       "      <td>964.755859</td>\n",
       "      <td>0.921771</td>\n",
       "      <td>0.034660</td>\n",
       "      <td>0.030113</td>\n",
       "      <td>0.000000</td>\n",
       "    </tr>\n",
       "    <tr>\n",
       "      <th>25%</th>\n",
       "      <td>2011.000000</td>\n",
       "      <td>4.000000</td>\n",
       "      <td>8.000000</td>\n",
       "      <td>10.000000</td>\n",
       "      <td>2.000000</td>\n",
       "      <td>25.474942</td>\n",
       "      <td>974.348267</td>\n",
       "      <td>18.042185</td>\n",
       "      <td>95.632074</td>\n",
       "      <td>1.504627</td>\n",
       "      <td>148.000000</td>\n",
       "    </tr>\n",
       "    <tr>\n",
       "      <th>50%</th>\n",
       "      <td>2011.500000</td>\n",
       "      <td>7.000000</td>\n",
       "      <td>16.000000</td>\n",
       "      <td>13.000000</td>\n",
       "      <td>11.000000</td>\n",
       "      <td>30.354800</td>\n",
       "      <td>980.541962</td>\n",
       "      <td>38.279008</td>\n",
       "      <td>231.021500</td>\n",
       "      <td>2.268829</td>\n",
       "      <td>446.000000</td>\n",
       "    </tr>\n",
       "    <tr>\n",
       "      <th>75%</th>\n",
       "      <td>2012.000000</td>\n",
       "      <td>10.000000</td>\n",
       "      <td>23.000000</td>\n",
       "      <td>16.000000</td>\n",
       "      <td>22.000000</td>\n",
       "      <td>35.255237</td>\n",
       "      <td>984.994659</td>\n",
       "      <td>59.969883</td>\n",
       "      <td>261.233154</td>\n",
       "      <td>3.195885</td>\n",
       "      <td>693.000000</td>\n",
       "    </tr>\n",
       "    <tr>\n",
       "      <th>max</th>\n",
       "      <td>2012.000000</td>\n",
       "      <td>12.000000</td>\n",
       "      <td>31.000000</td>\n",
       "      <td>19.000000</td>\n",
       "      <td>27.000000</td>\n",
       "      <td>52.157927</td>\n",
       "      <td>993.353210</td>\n",
       "      <td>97.663827</td>\n",
       "      <td>359.821167</td>\n",
       "      <td>7.287084</td>\n",
       "      <td>1001.000000</td>\n",
       "    </tr>\n",
       "  </tbody>\n",
       "</table>\n",
       "</div>"
      ],
      "text/plain": [
       "              Year        Month          Day         Hour    Dew Point  \\\n",
       "count  9490.000000  9490.000000  9490.000000  9490.000000  9490.000000   \n",
       "mean   2011.500000     6.526027    15.720548    13.000000    11.135722   \n",
       "std       0.500026     3.448033     8.796710     3.741855    11.219832   \n",
       "min    2011.000000     1.000000     1.000000     7.000000   -28.000000   \n",
       "25%    2011.000000     4.000000     8.000000    10.000000     2.000000   \n",
       "50%    2011.500000     7.000000    16.000000    13.000000    11.000000   \n",
       "75%    2012.000000    10.000000    23.000000    16.000000    22.000000   \n",
       "max    2012.000000    12.000000    31.000000    19.000000    27.000000   \n",
       "\n",
       "       Temperature     Pressure  Relative Humidity  Wind Direction  \\\n",
       "count  9490.000000  9490.000000        9490.000000     9490.000000   \n",
       "mean     30.275155   979.764586          40.148897      193.659705   \n",
       "std       7.907448     6.206627          25.004457      100.563939   \n",
       "min       6.457841   964.755859           0.921771        0.034660   \n",
       "25%      25.474942   974.348267          18.042185       95.632074   \n",
       "50%      30.354800   980.541962          38.279008      231.021500   \n",
       "75%      35.255237   984.994659          59.969883      261.233154   \n",
       "max      52.157927   993.353210          97.663827      359.821167   \n",
       "\n",
       "        Wind Speed  Solar Radiation (GHI)  \n",
       "count  9490.000000            9490.000000  \n",
       "mean      2.418787             433.066386  \n",
       "std       1.235776             308.524214  \n",
       "min       0.030113               0.000000  \n",
       "25%       1.504627             148.000000  \n",
       "50%       2.268829             446.000000  \n",
       "75%       3.195885             693.000000  \n",
       "max       7.287084            1001.000000  "
      ]
     },
     "execution_count": 12,
     "metadata": {},
     "output_type": "execute_result"
    }
   ],
   "source": [
    "data.describe()"
   ]
  },
  {
   "cell_type": "markdown",
   "id": "53089b88",
   "metadata": {},
   "source": [
    "INPUT vs OUTPUT"
   ]
  },
  {
   "cell_type": "code",
   "execution_count": 13,
   "id": "97e3ac9c",
   "metadata": {},
   "outputs": [],
   "source": [
    "y = data.iloc[:,-1] # last column is the Solar Radiation\n",
    "x = data.iloc[:, :-1] # everything else are the independent variables"
   ]
  },
  {
   "cell_type": "markdown",
   "id": "9be00d20",
   "metadata": {},
   "source": [
    "Due to difference of units amongst variables, we will scale the data using MinMaxScaler so that minimum is zero and Max is 1"
   ]
  },
  {
   "cell_type": "code",
   "execution_count": 14,
   "id": "2fe786f2",
   "metadata": {},
   "outputs": [],
   "source": [
    "from sklearn.preprocessing import MinMaxScaler"
   ]
  },
  {
   "cell_type": "code",
   "execution_count": 15,
   "id": "1a07d91d",
   "metadata": {},
   "outputs": [],
   "source": [
    "scaler = MinMaxScaler()"
   ]
  },
  {
   "cell_type": "code",
   "execution_count": 16,
   "id": "06ae5951",
   "metadata": {},
   "outputs": [],
   "source": [
    "x = pd.DataFrame(scaler.fit_transform(x)) # fit_transform and then convert back to data-frame"
   ]
  },
  {
   "cell_type": "code",
   "execution_count": 17,
   "id": "4c02df96",
   "metadata": {},
   "outputs": [],
   "source": [
    "pd.set_option('display.float_format', lambda x: '%.3f' % x) # converting the scientific notation to decimal for quick scanning"
   ]
  },
  {
   "cell_type": "code",
   "execution_count": 18,
   "id": "1ed8656b",
   "metadata": {},
   "outputs": [
    {
     "data": {
      "text/html": [
       "<div>\n",
       "<style scoped>\n",
       "    .dataframe tbody tr th:only-of-type {\n",
       "        vertical-align: middle;\n",
       "    }\n",
       "\n",
       "    .dataframe tbody tr th {\n",
       "        vertical-align: top;\n",
       "    }\n",
       "\n",
       "    .dataframe thead th {\n",
       "        text-align: right;\n",
       "    }\n",
       "</style>\n",
       "<table border=\"1\" class=\"dataframe\">\n",
       "  <thead>\n",
       "    <tr style=\"text-align: right;\">\n",
       "      <th></th>\n",
       "      <th>Year</th>\n",
       "      <th>Month</th>\n",
       "      <th>Day</th>\n",
       "      <th>Hour</th>\n",
       "      <th>Dew Point</th>\n",
       "      <th>Temperature</th>\n",
       "      <th>Pressure</th>\n",
       "      <th>Relative Humidity</th>\n",
       "      <th>Wind Direction</th>\n",
       "      <th>Wind Speed</th>\n",
       "      <th>Solar Radiation (GHI)</th>\n",
       "    </tr>\n",
       "  </thead>\n",
       "  <tbody>\n",
       "    <tr>\n",
       "      <th>Year</th>\n",
       "      <td>1.000</td>\n",
       "      <td>-0.000</td>\n",
       "      <td>-0.000</td>\n",
       "      <td>-0.000</td>\n",
       "      <td>-0.141</td>\n",
       "      <td>0.030</td>\n",
       "      <td>0.020</td>\n",
       "      <td>-0.170</td>\n",
       "      <td>0.010</td>\n",
       "      <td>0.036</td>\n",
       "      <td>-0.014</td>\n",
       "    </tr>\n",
       "    <tr>\n",
       "      <th>Month</th>\n",
       "      <td>-0.000</td>\n",
       "      <td>1.000</td>\n",
       "      <td>0.012</td>\n",
       "      <td>0.000</td>\n",
       "      <td>0.497</td>\n",
       "      <td>-0.047</td>\n",
       "      <td>-0.036</td>\n",
       "      <td>0.474</td>\n",
       "      <td>-0.117</td>\n",
       "      <td>-0.229</td>\n",
       "      <td>-0.089</td>\n",
       "    </tr>\n",
       "    <tr>\n",
       "      <th>Day</th>\n",
       "      <td>-0.000</td>\n",
       "      <td>0.012</td>\n",
       "      <td>1.000</td>\n",
       "      <td>0.000</td>\n",
       "      <td>-0.019</td>\n",
       "      <td>-0.012</td>\n",
       "      <td>0.046</td>\n",
       "      <td>-0.006</td>\n",
       "      <td>-0.024</td>\n",
       "      <td>0.041</td>\n",
       "      <td>0.011</td>\n",
       "    </tr>\n",
       "    <tr>\n",
       "      <th>Hour</th>\n",
       "      <td>-0.000</td>\n",
       "      <td>0.000</td>\n",
       "      <td>0.000</td>\n",
       "      <td>1.000</td>\n",
       "      <td>-0.008</td>\n",
       "      <td>0.079</td>\n",
       "      <td>-0.176</td>\n",
       "      <td>-0.071</td>\n",
       "      <td>0.071</td>\n",
       "      <td>0.075</td>\n",
       "      <td>-0.330</td>\n",
       "    </tr>\n",
       "    <tr>\n",
       "      <th>Dew Point</th>\n",
       "      <td>-0.141</td>\n",
       "      <td>0.497</td>\n",
       "      <td>-0.019</td>\n",
       "      <td>-0.008</td>\n",
       "      <td>1.000</td>\n",
       "      <td>0.189</td>\n",
       "      <td>-0.580</td>\n",
       "      <td>0.812</td>\n",
       "      <td>0.135</td>\n",
       "      <td>0.047</td>\n",
       "      <td>-0.022</td>\n",
       "    </tr>\n",
       "    <tr>\n",
       "      <th>Temperature</th>\n",
       "      <td>0.030</td>\n",
       "      <td>-0.047</td>\n",
       "      <td>-0.012</td>\n",
       "      <td>0.079</td>\n",
       "      <td>0.189</td>\n",
       "      <td>1.000</td>\n",
       "      <td>-0.639</td>\n",
       "      <td>-0.319</td>\n",
       "      <td>0.426</td>\n",
       "      <td>0.275</td>\n",
       "      <td>0.558</td>\n",
       "    </tr>\n",
       "    <tr>\n",
       "      <th>Pressure</th>\n",
       "      <td>0.020</td>\n",
       "      <td>-0.036</td>\n",
       "      <td>0.046</td>\n",
       "      <td>-0.176</td>\n",
       "      <td>-0.580</td>\n",
       "      <td>-0.639</td>\n",
       "      <td>1.000</td>\n",
       "      <td>-0.255</td>\n",
       "      <td>-0.417</td>\n",
       "      <td>-0.428</td>\n",
       "      <td>-0.124</td>\n",
       "    </tr>\n",
       "    <tr>\n",
       "      <th>Relative Humidity</th>\n",
       "      <td>-0.170</td>\n",
       "      <td>0.474</td>\n",
       "      <td>-0.006</td>\n",
       "      <td>-0.071</td>\n",
       "      <td>0.812</td>\n",
       "      <td>-0.319</td>\n",
       "      <td>-0.255</td>\n",
       "      <td>1.000</td>\n",
       "      <td>-0.064</td>\n",
       "      <td>-0.137</td>\n",
       "      <td>-0.314</td>\n",
       "    </tr>\n",
       "    <tr>\n",
       "      <th>Wind Direction</th>\n",
       "      <td>0.010</td>\n",
       "      <td>-0.117</td>\n",
       "      <td>-0.024</td>\n",
       "      <td>0.071</td>\n",
       "      <td>0.135</td>\n",
       "      <td>0.426</td>\n",
       "      <td>-0.417</td>\n",
       "      <td>-0.064</td>\n",
       "      <td>1.000</td>\n",
       "      <td>0.202</td>\n",
       "      <td>0.149</td>\n",
       "    </tr>\n",
       "    <tr>\n",
       "      <th>Wind Speed</th>\n",
       "      <td>0.036</td>\n",
       "      <td>-0.229</td>\n",
       "      <td>0.041</td>\n",
       "      <td>0.075</td>\n",
       "      <td>0.047</td>\n",
       "      <td>0.275</td>\n",
       "      <td>-0.428</td>\n",
       "      <td>-0.137</td>\n",
       "      <td>0.202</td>\n",
       "      <td>1.000</td>\n",
       "      <td>-0.011</td>\n",
       "    </tr>\n",
       "    <tr>\n",
       "      <th>Solar Radiation (GHI)</th>\n",
       "      <td>-0.014</td>\n",
       "      <td>-0.089</td>\n",
       "      <td>0.011</td>\n",
       "      <td>-0.330</td>\n",
       "      <td>-0.022</td>\n",
       "      <td>0.558</td>\n",
       "      <td>-0.124</td>\n",
       "      <td>-0.314</td>\n",
       "      <td>0.149</td>\n",
       "      <td>-0.011</td>\n",
       "      <td>1.000</td>\n",
       "    </tr>\n",
       "  </tbody>\n",
       "</table>\n",
       "</div>"
      ],
      "text/plain": [
       "                        Year  Month    Day   Hour  Dew Point  Temperature  \\\n",
       "Year                   1.000 -0.000 -0.000 -0.000     -0.141        0.030   \n",
       "Month                 -0.000  1.000  0.012  0.000      0.497       -0.047   \n",
       "Day                   -0.000  0.012  1.000  0.000     -0.019       -0.012   \n",
       "Hour                  -0.000  0.000  0.000  1.000     -0.008        0.079   \n",
       "Dew Point             -0.141  0.497 -0.019 -0.008      1.000        0.189   \n",
       "Temperature            0.030 -0.047 -0.012  0.079      0.189        1.000   \n",
       "Pressure               0.020 -0.036  0.046 -0.176     -0.580       -0.639   \n",
       "Relative Humidity     -0.170  0.474 -0.006 -0.071      0.812       -0.319   \n",
       "Wind Direction         0.010 -0.117 -0.024  0.071      0.135        0.426   \n",
       "Wind Speed             0.036 -0.229  0.041  0.075      0.047        0.275   \n",
       "Solar Radiation (GHI) -0.014 -0.089  0.011 -0.330     -0.022        0.558   \n",
       "\n",
       "                       Pressure  Relative Humidity  Wind Direction  \\\n",
       "Year                      0.020             -0.170           0.010   \n",
       "Month                    -0.036              0.474          -0.117   \n",
       "Day                       0.046             -0.006          -0.024   \n",
       "Hour                     -0.176             -0.071           0.071   \n",
       "Dew Point                -0.580              0.812           0.135   \n",
       "Temperature              -0.639             -0.319           0.426   \n",
       "Pressure                  1.000             -0.255          -0.417   \n",
       "Relative Humidity        -0.255              1.000          -0.064   \n",
       "Wind Direction           -0.417             -0.064           1.000   \n",
       "Wind Speed               -0.428             -0.137           0.202   \n",
       "Solar Radiation (GHI)    -0.124             -0.314           0.149   \n",
       "\n",
       "                       Wind Speed  Solar Radiation (GHI)  \n",
       "Year                        0.036                 -0.014  \n",
       "Month                      -0.229                 -0.089  \n",
       "Day                         0.041                  0.011  \n",
       "Hour                        0.075                 -0.330  \n",
       "Dew Point                   0.047                 -0.022  \n",
       "Temperature                 0.275                  0.558  \n",
       "Pressure                   -0.428                 -0.124  \n",
       "Relative Humidity          -0.137                 -0.314  \n",
       "Wind Direction              0.202                  0.149  \n",
       "Wind Speed                  1.000                 -0.011  \n",
       "Solar Radiation (GHI)      -0.011                  1.000  "
      ]
     },
     "execution_count": 18,
     "metadata": {},
     "output_type": "execute_result"
    }
   ],
   "source": [
    "data.corr()"
   ]
  },
  {
   "cell_type": "code",
   "execution_count": 19,
   "id": "bdda4c28",
   "metadata": {},
   "outputs": [
    {
     "data": {
      "image/png": "[encoded data removed]",
      "text/plain": [
       "<Figure size 800x800 with 2 Axes>"
      ]
     },
     "metadata": {},
     "output_type": "display_data"
    }
   ],
   "source": [
    "pd.set_option('display.float_format', lambda x: '%.3f' % x) # converting the scientific notation to decimal for quick scanning\n",
    "plt.figure(figsize = (8,8))\n",
    "sns.heatmap(data.corr(), annot = True)\n",
    "plt.show()"
   ]
  },
  {
   "cell_type": "markdown",
   "id": "6d65d967",
   "metadata": {},
   "source": [
    "# Feature Selection with ExtraTreeClassifier"
   ]
  },
  {
   "cell_type": "code",
   "execution_count": 20,
   "id": "22f524ed",
   "metadata": {},
   "outputs": [
    {
     "data": {
      "text/html": [
       "<style>#sk-container-id-1 {color: black;}#sk-container-id-1 pre{padding: 0;}#sk-container-id-1 div.sk-toggleable {background-color: white;}#sk-container-id-1 label.sk-toggleable__label {cursor: pointer;display: block;width: 100%;margin-bottom: 0;padding: 0.3em;box-sizing: border-box;text-align: center;}#sk-container-id-1 label.sk-toggleable__label-arrow:before {content: \"▸\";float: left;margin-right: 0.25em;color: #696969;}#sk-container-id-1 label.sk-toggleable__label-arrow:hover:before {color: black;}#sk-container-id-1 div.sk-estimator:hover label.sk-toggleable__label-arrow:before {color: black;}#sk-container-id-1 div.sk-toggleable__content {max-height: 0;max-width: 0;overflow: hidden;text-align: left;background-color: #f0f8ff;}#sk-container-id-1 div.sk-toggleable__content pre {margin: 0.2em;color: black;border-radius: 0.25em;background-color: #f0f8ff;}#sk-container-id-1 input.sk-toggleable__control:checked~div.sk-toggleable__content {max-height: 200px;max-width: 100%;overflow: auto;}#sk-container-id-1 input.sk-toggleable__control:checked~label.sk-toggleable__label-arrow:before {content: \"▾\";}#sk-container-id-1 div.sk-estimator input.sk-toggleable__control:checked~label.sk-toggleable__label {background-color: #d4ebff;}#sk-container-id-1 div.sk-label input.sk-toggleable__control:checked~label.sk-toggleable__label {background-color: #d4ebff;}#sk-container-id-1 input.sk-hidden--visually {border: 0;clip: rect(1px 1px 1px 1px);clip: rect(1px, 1px, 1px, 1px);height: 1px;margin: -1px;overflow: hidden;padding: 0;position: absolute;width: 1px;}#sk-container-id-1 div.sk-estimator {font-family: monospace;background-color: #f0f8ff;border: 1px dotted black;border-radius: 0.25em;box-sizing: border-box;margin-bottom: 0.5em;}#sk-container-id-1 div.sk-estimator:hover {background-color: #d4ebff;}#sk-container-id-1 div.sk-parallel-item::after {content: \"\";width: 100%;border-bottom: 1px solid gray;flex-grow: 1;}#sk-container-id-1 div.sk-label:hover label.sk-toggleable__label {background-color: #d4ebff;}#sk-container-id-1 div.sk-serial::before {content: \"\";position: absolute;border-left: 1px solid gray;box-sizing: border-box;top: 0;bottom: 0;left: 50%;z-index: 0;}#sk-container-id-1 div.sk-serial {display: flex;flex-direction: column;align-items: center;background-color: white;padding-right: 0.2em;padding-left: 0.2em;position: relative;}#sk-container-id-1 div.sk-item {position: relative;z-index: 1;}#sk-container-id-1 div.sk-parallel {display: flex;align-items: stretch;justify-content: center;background-color: white;position: relative;}#sk-container-id-1 div.sk-item::before, #sk-container-id-1 div.sk-parallel-item::before {content: \"\";position: absolute;border-left: 1px solid gray;box-sizing: border-box;top: 0;bottom: 0;left: 50%;z-index: -1;}#sk-container-id-1 div.sk-parallel-item {display: flex;flex-direction: column;z-index: 1;position: relative;background-color: white;}#sk-container-id-1 div.sk-parallel-item:first-child::after {align-self: flex-end;width: 50%;}#sk-container-id-1 div.sk-parallel-item:last-child::after {align-self: flex-start;width: 50%;}#sk-container-id-1 div.sk-parallel-item:only-child::after {width: 0;}#sk-container-id-1 div.sk-dashed-wrapped {border: 1px dashed gray;margin: 0 0.4em 0.5em 0.4em;box-sizing: border-box;padding-bottom: 0.4em;background-color: white;}#sk-container-id-1 div.sk-label label {font-family: monospace;font-weight: bold;display: inline-block;line-height: 1.2em;}#sk-container-id-1 div.sk-label-container {text-align: center;}#sk-container-id-1 div.sk-container {/* jupyter's `normalize.less` sets `[hidden] { display: none; }` but bootstrap.min.css set `[hidden] { display: none !important; }` so we also need the `!important` here to be able to override the default hidden behavior on the sphinx rendered scikit-learn.org. See: https://github.com/scikit-learn/scikit-learn/issues/21755 */display: inline-block !important;position: relative;}#sk-container-id-1 div.sk-text-repr-fallback {display: none;}</style><div id=\"sk-container-id-1\" class=\"sk-top-container\"><div class=\"sk-text-repr-fallback\"><pre>ExtraTreesClassifier()</pre><b>In a Jupyter environment, please rerun this cell to show the HTML representation or trust the notebook. <br />On GitHub, the HTML representation is unable to render, please try loading this page with nbviewer.org.</b></div><div class=\"sk-container\" hidden><div class=\"sk-item\"><div class=\"sk-estimator sk-toggleable\"><input class=\"sk-toggleable__control sk-hidden--visually\" id=\"sk-estimator-id-1\" type=\"checkbox\" checked><label for=\"sk-estimator-id-1\" class=\"sk-toggleable__label sk-toggleable__label-arrow\">ExtraTreesClassifier</label><div class=\"sk-toggleable__content\"><pre>ExtraTreesClassifier()</pre></div></div></div></div></div>"
      ],
      "text/plain": [
       "ExtraTreesClassifier()"
      ]
     },
     "execution_count": 20,
     "metadata": {},
     "output_type": "execute_result"
    }
   ],
   "source": [
    "from sklearn.ensemble import ExtraTreesClassifier\n",
    "ET_Classifier = ExtraTreesClassifier()\n",
    "ET_Classifier.fit(x,y)"
   ]
  },
  {
   "cell_type": "code",
   "execution_count": 21,
   "id": "94c6cf5c",
   "metadata": {},
   "outputs": [
    {
     "data": {
      "text/html": [
       "<div>\n",
       "<style scoped>\n",
       "    .dataframe tbody tr th:only-of-type {\n",
       "        vertical-align: middle;\n",
       "    }\n",
       "\n",
       "    .dataframe tbody tr th {\n",
       "        vertical-align: top;\n",
       "    }\n",
       "\n",
       "    .dataframe thead th {\n",
       "        text-align: right;\n",
       "    }\n",
       "</style>\n",
       "<table border=\"1\" class=\"dataframe\">\n",
       "  <thead>\n",
       "    <tr style=\"text-align: right;\">\n",
       "      <th></th>\n",
       "      <th>Year</th>\n",
       "      <th>Month</th>\n",
       "      <th>Day</th>\n",
       "      <th>Hour</th>\n",
       "      <th>Dew Point</th>\n",
       "      <th>Temperature</th>\n",
       "      <th>Pressure</th>\n",
       "      <th>Relative Humidity</th>\n",
       "      <th>Wind Direction</th>\n",
       "      <th>Wind Speed</th>\n",
       "      <th>Solar Radiation (GHI)</th>\n",
       "    </tr>\n",
       "  </thead>\n",
       "  <tbody>\n",
       "    <tr>\n",
       "      <th>7</th>\n",
       "      <td>2011</td>\n",
       "      <td>1</td>\n",
       "      <td>1</td>\n",
       "      <td>7</td>\n",
       "      <td>2</td>\n",
       "      <td>9.036</td>\n",
       "      <td>987.039</td>\n",
       "      <td>64.035</td>\n",
       "      <td>105.198</td>\n",
       "      <td>1.615</td>\n",
       "      <td>0</td>\n",
       "    </tr>\n",
       "    <tr>\n",
       "      <th>8</th>\n",
       "      <td>2011</td>\n",
       "      <td>1</td>\n",
       "      <td>1</td>\n",
       "      <td>8</td>\n",
       "      <td>3</td>\n",
       "      <td>12.158</td>\n",
       "      <td>987.897</td>\n",
       "      <td>55.106</td>\n",
       "      <td>113.318</td>\n",
       "      <td>1.439</td>\n",
       "      <td>159</td>\n",
       "    </tr>\n",
       "    <tr>\n",
       "      <th>9</th>\n",
       "      <td>2011</td>\n",
       "      <td>1</td>\n",
       "      <td>1</td>\n",
       "      <td>9</td>\n",
       "      <td>3</td>\n",
       "      <td>14.965</td>\n",
       "      <td>988.212</td>\n",
       "      <td>47.167</td>\n",
       "      <td>117.328</td>\n",
       "      <td>1.063</td>\n",
       "      <td>363</td>\n",
       "    </tr>\n",
       "    <tr>\n",
       "      <th>10</th>\n",
       "      <td>2011</td>\n",
       "      <td>1</td>\n",
       "      <td>1</td>\n",
       "      <td>10</td>\n",
       "      <td>3</td>\n",
       "      <td>18.956</td>\n",
       "      <td>988.055</td>\n",
       "      <td>36.747</td>\n",
       "      <td>72.488</td>\n",
       "      <td>0.546</td>\n",
       "      <td>533</td>\n",
       "    </tr>\n",
       "    <tr>\n",
       "      <th>11</th>\n",
       "      <td>2011</td>\n",
       "      <td>1</td>\n",
       "      <td>1</td>\n",
       "      <td>11</td>\n",
       "      <td>2</td>\n",
       "      <td>21.354</td>\n",
       "      <td>987.464</td>\n",
       "      <td>29.157</td>\n",
       "      <td>12.977</td>\n",
       "      <td>0.980</td>\n",
       "      <td>649</td>\n",
       "    </tr>\n",
       "  </tbody>\n",
       "</table>\n",
       "</div>"
      ],
      "text/plain": [
       "    Year  Month  Day  Hour  Dew Point  Temperature  Pressure  \\\n",
       "7   2011      1    1     7          2        9.036   987.039   \n",
       "8   2011      1    1     8          3       12.158   987.897   \n",
       "9   2011      1    1     9          3       14.965   988.212   \n",
       "10  2011      1    1    10          3       18.956   988.055   \n",
       "11  2011      1    1    11          2       21.354   987.464   \n",
       "\n",
       "    Relative Humidity  Wind Direction  Wind Speed  Solar Radiation (GHI)  \n",
       "7              64.035         105.198       1.615                      0  \n",
       "8              55.106         113.318       1.439                    159  \n",
       "9              47.167         117.328       1.063                    363  \n",
       "10             36.747          72.488       0.546                    533  \n",
       "11             29.157          12.977       0.980                    649  "
      ]
     },
     "execution_count": 21,
     "metadata": {},
     "output_type": "execute_result"
    }
   ],
   "source": [
    "data.head()"
   ]
  },
  {
   "cell_type": "code",
   "execution_count": 22,
   "id": "a43873c5",
   "metadata": {},
   "outputs": [],
   "source": [
    "variables = ['Year', 'Month', 'Day', 'Hour', 'Dew Point', 'Temperature', 'Pressure', 'Relative Humidity', 'Wind Direction',\n",
    "            'Wind Speed']"
   ]
  },
  {
   "cell_type": "code",
   "execution_count": 23,
   "id": "449d26c6",
   "metadata": {},
   "outputs": [
    {
     "data": {
      "text/plain": [
       "Year                0.027\n",
       "Month               0.044\n",
       "Day                 0.108\n",
       "Hour                0.141\n",
       "Dew Point           0.087\n",
       "Temperature         0.129\n",
       "Pressure            0.119\n",
       "Relative Humidity   0.119\n",
       "Wind Direction      0.113\n",
       "Wind Speed          0.114\n",
       "dtype: float64"
      ]
     },
     "execution_count": 23,
     "metadata": {},
     "output_type": "execute_result"
    }
   ],
   "source": [
    "feature_imp = pd.Series(ET_Classifier.feature_importances_, index = variables)\n",
    "feature_imp"
   ]
  },
  {
   "cell_type": "markdown",
   "id": "bc755d89",
   "metadata": {},
   "source": [
    "From above, Year and Month seem to be least important and following is a visualization "
   ]
  },
  {
   "cell_type": "code",
   "execution_count": 24,
   "id": "9e2e316c",
   "metadata": {},
   "outputs": [
    {
     "data": {
      "image/png": "[encoded data removed]",
      "text/plain": [
       "<Figure size 640x480 with 1 Axes>"
      ]
     },
     "metadata": {},
     "output_type": "display_data"
    }
   ],
   "source": [
    "feature_imp.nlargest(10).plot(kind = 'bar')\n",
    "plt.show()"
   ]
  },
  {
   "cell_type": "markdown",
   "id": "581fb76a",
   "metadata": {},
   "source": [
    "# Doing the same with SelectKBest"
   ]
  },
  {
   "cell_type": "code",
   "execution_count": 25,
   "id": "bfe840a4",
   "metadata": {},
   "outputs": [],
   "source": [
    "from sklearn.feature_selection import SelectKBest\n",
    "from sklearn.feature_selection import chi2"
   ]
  },
  {
   "cell_type": "code",
   "execution_count": 26,
   "id": "04469760",
   "metadata": {},
   "outputs": [],
   "source": [
    "k_best_classifier = SelectKBest(score_func = chi2, k =10)"
   ]
  },
  {
   "cell_type": "code",
   "execution_count": 27,
   "id": "fc09771b",
   "metadata": {},
   "outputs": [],
   "source": [
    "best_features = k_best_classifier.fit(x, y)"
   ]
  },
  {
   "cell_type": "code",
   "execution_count": 28,
   "id": "cf614ddb",
   "metadata": {},
   "outputs": [
    {
     "data": {
      "text/html": [
       "<style>#sk-container-id-2 {color: black;}#sk-container-id-2 pre{padding: 0;}#sk-container-id-2 div.sk-toggleable {background-color: white;}#sk-container-id-2 label.sk-toggleable__label {cursor: pointer;display: block;width: 100%;margin-bottom: 0;padding: 0.3em;box-sizing: border-box;text-align: center;}#sk-container-id-2 label.sk-toggleable__label-arrow:before {content: \"▸\";float: left;margin-right: 0.25em;color: #696969;}#sk-container-id-2 label.sk-toggleable__label-arrow:hover:before {color: black;}#sk-container-id-2 div.sk-estimator:hover label.sk-toggleable__label-arrow:before {color: black;}#sk-container-id-2 div.sk-toggleable__content {max-height: 0;max-width: 0;overflow: hidden;text-align: left;background-color: #f0f8ff;}#sk-container-id-2 div.sk-toggleable__content pre {margin: 0.2em;color: black;border-radius: 0.25em;background-color: #f0f8ff;}#sk-container-id-2 input.sk-toggleable__control:checked~div.sk-toggleable__content {max-height: 200px;max-width: 100%;overflow: auto;}#sk-container-id-2 input.sk-toggleable__control:checked~label.sk-toggleable__label-arrow:before {content: \"▾\";}#sk-container-id-2 div.sk-estimator input.sk-toggleable__control:checked~label.sk-toggleable__label {background-color: #d4ebff;}#sk-container-id-2 div.sk-label input.sk-toggleable__control:checked~label.sk-toggleable__label {background-color: #d4ebff;}#sk-container-id-2 input.sk-hidden--visually {border: 0;clip: rect(1px 1px 1px 1px);clip: rect(1px, 1px, 1px, 1px);height: 1px;margin: -1px;overflow: hidden;padding: 0;position: absolute;width: 1px;}#sk-container-id-2 div.sk-estimator {font-family: monospace;background-color: #f0f8ff;border: 1px dotted black;border-radius: 0.25em;box-sizing: border-box;margin-bottom: 0.5em;}#sk-container-id-2 div.sk-estimator:hover {background-color: #d4ebff;}#sk-container-id-2 div.sk-parallel-item::after {content: \"\";width: 100%;border-bottom: 1px solid gray;flex-grow: 1;}#sk-container-id-2 div.sk-label:hover label.sk-toggleable__label {background-color: #d4ebff;}#sk-container-id-2 div.sk-serial::before {content: \"\";position: absolute;border-left: 1px solid gray;box-sizing: border-box;top: 0;bottom: 0;left: 50%;z-index: 0;}#sk-container-id-2 div.sk-serial {display: flex;flex-direction: column;align-items: center;background-color: white;padding-right: 0.2em;padding-left: 0.2em;position: relative;}#sk-container-id-2 div.sk-item {position: relative;z-index: 1;}#sk-container-id-2 div.sk-parallel {display: flex;align-items: stretch;justify-content: center;background-color: white;position: relative;}#sk-container-id-2 div.sk-item::before, #sk-container-id-2 div.sk-parallel-item::before {content: \"\";position: absolute;border-left: 1px solid gray;box-sizing: border-box;top: 0;bottom: 0;left: 50%;z-index: -1;}#sk-container-id-2 div.sk-parallel-item {display: flex;flex-direction: column;z-index: 1;position: relative;background-color: white;}#sk-container-id-2 div.sk-parallel-item:first-child::after {align-self: flex-end;width: 50%;}#sk-container-id-2 div.sk-parallel-item:last-child::after {align-self: flex-start;width: 50%;}#sk-container-id-2 div.sk-parallel-item:only-child::after {width: 0;}#sk-container-id-2 div.sk-dashed-wrapped {border: 1px dashed gray;margin: 0 0.4em 0.5em 0.4em;box-sizing: border-box;padding-bottom: 0.4em;background-color: white;}#sk-container-id-2 div.sk-label label {font-family: monospace;font-weight: bold;display: inline-block;line-height: 1.2em;}#sk-container-id-2 div.sk-label-container {text-align: center;}#sk-container-id-2 div.sk-container {/* jupyter's `normalize.less` sets `[hidden] { display: none; }` but bootstrap.min.css set `[hidden] { display: none !important; }` so we also need the `!important` here to be able to override the default hidden behavior on the sphinx rendered scikit-learn.org. See: https://github.com/scikit-learn/scikit-learn/issues/21755 */display: inline-block !important;position: relative;}#sk-container-id-2 div.sk-text-repr-fallback {display: none;}</style><div id=\"sk-container-id-2\" class=\"sk-top-container\"><div class=\"sk-text-repr-fallback\"><pre>SelectKBest(score_func=&lt;function chi2 at 0x0000028AC83CADE0&gt;)</pre><b>In a Jupyter environment, please rerun this cell to show the HTML representation or trust the notebook. <br />On GitHub, the HTML representation is unable to render, please try loading this page with nbviewer.org.</b></div><div class=\"sk-container\" hidden><div class=\"sk-item\"><div class=\"sk-estimator sk-toggleable\"><input class=\"sk-toggleable__control sk-hidden--visually\" id=\"sk-estimator-id-2\" type=\"checkbox\" checked><label for=\"sk-estimator-id-2\" class=\"sk-toggleable__label sk-toggleable__label-arrow\">SelectKBest</label><div class=\"sk-toggleable__content\"><pre>SelectKBest(score_func=&lt;function chi2 at 0x0000028AC83CADE0&gt;)</pre></div></div></div></div></div>"
      ],
      "text/plain": [
       "SelectKBest(score_func=<function chi2 at 0x0000028AC83CADE0>)"
      ]
     },
     "execution_count": 28,
     "metadata": {},
     "output_type": "execute_result"
    }
   ],
   "source": [
    "best_features"
   ]
  },
  {
   "cell_type": "code",
   "execution_count": 29,
   "id": "75a0724f",
   "metadata": {},
   "outputs": [],
   "source": [
    "scores = pd.DataFrame(best_features.scores_) # getting scores and columns as dataFrames\n",
    "columns = pd.DataFrame(variables)"
   ]
  },
  {
   "cell_type": "code",
   "execution_count": 30,
   "id": "0c11c09a",
   "metadata": {},
   "outputs": [],
   "source": [
    "best_score = pd.concat([columns, scores], axis = 1) # concatenating two dataframes "
   ]
  },
  {
   "cell_type": "code",
   "execution_count": 31,
   "id": "6c660ec3",
   "metadata": {},
   "outputs": [
    {
     "data": {
      "text/html": [
       "<div>\n",
       "<style scoped>\n",
       "    .dataframe tbody tr th:only-of-type {\n",
       "        vertical-align: middle;\n",
       "    }\n",
       "\n",
       "    .dataframe tbody tr th {\n",
       "        vertical-align: top;\n",
       "    }\n",
       "\n",
       "    .dataframe thead th {\n",
       "        text-align: right;\n",
       "    }\n",
       "</style>\n",
       "<table border=\"1\" class=\"dataframe\">\n",
       "  <thead>\n",
       "    <tr style=\"text-align: right;\">\n",
       "      <th></th>\n",
       "      <th>0</th>\n",
       "      <th>0</th>\n",
       "    </tr>\n",
       "  </thead>\n",
       "  <tbody>\n",
       "    <tr>\n",
       "      <th>0</th>\n",
       "      <td>Year</td>\n",
       "      <td>501.456</td>\n",
       "    </tr>\n",
       "    <tr>\n",
       "      <th>1</th>\n",
       "      <td>Month</td>\n",
       "      <td>239.256</td>\n",
       "    </tr>\n",
       "    <tr>\n",
       "      <th>2</th>\n",
       "      <td>Day</td>\n",
       "      <td>211.069</td>\n",
       "    </tr>\n",
       "    <tr>\n",
       "      <th>3</th>\n",
       "      <td>Hour</td>\n",
       "      <td>722.872</td>\n",
       "    </tr>\n",
       "    <tr>\n",
       "      <th>4</th>\n",
       "      <td>Dew Point</td>\n",
       "      <td>70.044</td>\n",
       "    </tr>\n",
       "    <tr>\n",
       "      <th>5</th>\n",
       "      <td>Temperature</td>\n",
       "      <td>251.385</td>\n",
       "    </tr>\n",
       "    <tr>\n",
       "      <th>6</th>\n",
       "      <td>Pressure</td>\n",
       "      <td>172.540</td>\n",
       "    </tr>\n",
       "    <tr>\n",
       "      <th>7</th>\n",
       "      <td>Relative Humidity</td>\n",
       "      <td>351.050</td>\n",
       "    </tr>\n",
       "    <tr>\n",
       "      <th>8</th>\n",
       "      <td>Wind Direction</td>\n",
       "      <td>200.669</td>\n",
       "    </tr>\n",
       "    <tr>\n",
       "      <th>9</th>\n",
       "      <td>Wind Speed</td>\n",
       "      <td>140.505</td>\n",
       "    </tr>\n",
       "  </tbody>\n",
       "</table>\n",
       "</div>"
      ],
      "text/plain": [
       "                   0       0\n",
       "0               Year 501.456\n",
       "1              Month 239.256\n",
       "2                Day 211.069\n",
       "3               Hour 722.872\n",
       "4          Dew Point  70.044\n",
       "5        Temperature 251.385\n",
       "6           Pressure 172.540\n",
       "7  Relative Humidity 351.050\n",
       "8     Wind Direction 200.669\n",
       "9         Wind Speed 140.505"
      ]
     },
     "execution_count": 31,
     "metadata": {},
     "output_type": "execute_result"
    }
   ],
   "source": [
    "best_score"
   ]
  },
  {
   "cell_type": "code",
   "execution_count": 32,
   "id": "582fb467",
   "metadata": {},
   "outputs": [],
   "source": [
    "# renaming columns to 'Features and 'Scores' to scores\n",
    "\n",
    "best_score.columns = ['Features', 'Scores']"
   ]
  },
  {
   "cell_type": "code",
   "execution_count": 33,
   "id": "68ffc04b",
   "metadata": {},
   "outputs": [
    {
     "data": {
      "text/html": [
       "<div>\n",
       "<style scoped>\n",
       "    .dataframe tbody tr th:only-of-type {\n",
       "        vertical-align: middle;\n",
       "    }\n",
       "\n",
       "    .dataframe tbody tr th {\n",
       "        vertical-align: top;\n",
       "    }\n",
       "\n",
       "    .dataframe thead th {\n",
       "        text-align: right;\n",
       "    }\n",
       "</style>\n",
       "<table border=\"1\" class=\"dataframe\">\n",
       "  <thead>\n",
       "    <tr style=\"text-align: right;\">\n",
       "      <th></th>\n",
       "      <th>Features</th>\n",
       "      <th>Scores</th>\n",
       "    </tr>\n",
       "  </thead>\n",
       "  <tbody>\n",
       "    <tr>\n",
       "      <th>0</th>\n",
       "      <td>Year</td>\n",
       "      <td>501.456</td>\n",
       "    </tr>\n",
       "    <tr>\n",
       "      <th>1</th>\n",
       "      <td>Month</td>\n",
       "      <td>239.256</td>\n",
       "    </tr>\n",
       "    <tr>\n",
       "      <th>2</th>\n",
       "      <td>Day</td>\n",
       "      <td>211.069</td>\n",
       "    </tr>\n",
       "    <tr>\n",
       "      <th>3</th>\n",
       "      <td>Hour</td>\n",
       "      <td>722.872</td>\n",
       "    </tr>\n",
       "    <tr>\n",
       "      <th>4</th>\n",
       "      <td>Dew Point</td>\n",
       "      <td>70.044</td>\n",
       "    </tr>\n",
       "    <tr>\n",
       "      <th>5</th>\n",
       "      <td>Temperature</td>\n",
       "      <td>251.385</td>\n",
       "    </tr>\n",
       "    <tr>\n",
       "      <th>6</th>\n",
       "      <td>Pressure</td>\n",
       "      <td>172.540</td>\n",
       "    </tr>\n",
       "    <tr>\n",
       "      <th>7</th>\n",
       "      <td>Relative Humidity</td>\n",
       "      <td>351.050</td>\n",
       "    </tr>\n",
       "    <tr>\n",
       "      <th>8</th>\n",
       "      <td>Wind Direction</td>\n",
       "      <td>200.669</td>\n",
       "    </tr>\n",
       "    <tr>\n",
       "      <th>9</th>\n",
       "      <td>Wind Speed</td>\n",
       "      <td>140.505</td>\n",
       "    </tr>\n",
       "  </tbody>\n",
       "</table>\n",
       "</div>"
      ],
      "text/plain": [
       "            Features  Scores\n",
       "0               Year 501.456\n",
       "1              Month 239.256\n",
       "2                Day 211.069\n",
       "3               Hour 722.872\n",
       "4          Dew Point  70.044\n",
       "5        Temperature 251.385\n",
       "6           Pressure 172.540\n",
       "7  Relative Humidity 351.050\n",
       "8     Wind Direction 200.669\n",
       "9         Wind Speed 140.505"
      ]
     },
     "execution_count": 33,
     "metadata": {},
     "output_type": "execute_result"
    }
   ],
   "source": [
    "best_score"
   ]
  },
  {
   "cell_type": "code",
   "execution_count": 36,
   "id": "a0273ac6",
   "metadata": {},
   "outputs": [
    {
     "data": {
      "image/png": "[encoded data removed]",
      "text/plain": [
       "<Figure size 640x480 with 1 Axes>"
      ]
     },
     "metadata": {},
     "output_type": "display_data"
    }
   ],
   "source": [
    "best_score.nlargest(10, 'Scores').plot(kind = 'bar')\n",
    "plt.show()"
   ]
  },
  {
   "cell_type": "markdown",
   "id": "f28024c4",
   "metadata": {},
   "source": [
    "The visualization above shows that the SelectKBest did a lot better at Feature Selection than ExtraTreesClassifier"
   ]
  },
  {
   "cell_type": "code",
   "execution_count": null,
   "id": "e83a88bf",
   "metadata": {},
   "outputs": [],
   "source": []
  }
 ],
 "metadata": {
  "kernelspec": {
   "display_name": "Python 3 (ipykernel)",
   "language": "python",
   "name": "python3"
  },
  "language_info": {
   "codemirror_mode": {
    "name": "ipython",
    "version": 3
   },
   "file_extension": ".py",
   "mimetype": "text/x-python",
   "name": "python",
   "nbconvert_exporter": "python",
   "pygments_lexer": "ipython3",
   "version": "3.11.5"
  }
 },
 "nbformat": 4,
 "nbformat_minor": 5
}
